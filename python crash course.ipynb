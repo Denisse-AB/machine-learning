{
 "cells": [
  {
   "cell_type": "code",
   "execution_count": null,
   "source": [
    "# ** What is 7 to the power of 4?**"
   ],
   "outputs": [],
   "metadata": {}
  },
  {
   "cell_type": "code",
   "execution_count": null,
   "source": [
    "7**4"
   ],
   "outputs": [],
   "metadata": {}
  },
  {
   "cell_type": "code",
   "execution_count": null,
   "source": [
    "# ** Split this string:**\r\n",
    "\r\n",
    "# s = \"Hi there Sam!\"\r\n",
    "\r\n",
    "# **into a list. **\r\n"
   ],
   "outputs": [],
   "metadata": {}
  },
  {
   "cell_type": "code",
   "execution_count": null,
   "source": [
    "s = 'Hi there Sam!'\r\n",
    "l = s.split()"
   ],
   "outputs": [],
   "metadata": {}
  },
  {
   "cell_type": "code",
   "execution_count": null,
   "source": [
    "l[2] = 'dad!'"
   ],
   "outputs": [],
   "metadata": {}
  },
  {
   "cell_type": "code",
   "execution_count": 79,
   "source": [
    "l"
   ],
   "outputs": [
    {
     "output_type": "execute_result",
     "data": {
      "text/plain": [
       "['Hi', 'there', 'dad!']"
      ]
     },
     "metadata": {},
     "execution_count": 79
    }
   ],
   "metadata": {}
  },
  {
   "cell_type": "code",
   "execution_count": null,
   "source": [
    "# ** Given the variables: **\r\n",
    "\r\n",
    "# planet = \"Earth\"\r\n",
    "# diameter = 12742\r\n",
    "\r\n",
    "# ** Use .format() to print the following string: **\r\n",
    "\r\n",
    "# The diameter of Earth is 12742 kilometers.\r\n"
   ],
   "outputs": [],
   "metadata": {}
  },
  {
   "cell_type": "code",
   "execution_count": null,
   "source": [
    "planet = \"Earth\"\r\n",
    "diameter = 12742\r\n",
    "\r\n",
    "sentence = \"The diameter of the {} is {} kilometers.\".format(planet, diameter)\r\n",
    "sentence"
   ],
   "outputs": [],
   "metadata": {}
  },
  {
   "cell_type": "code",
   "execution_count": null,
   "source": [
    "# Grab Hello "
   ],
   "outputs": [],
   "metadata": {}
  },
  {
   "cell_type": "code",
   "execution_count": null,
   "source": [
    "lst = [1, 2, [3, 4], [5, [100, 200, ['hello']], 23, 11], 1, 7]\r\n",
    "\r\n",
    "lst[3][1][2][0]"
   ],
   "outputs": [],
   "metadata": {}
  },
  {
   "cell_type": "code",
   "execution_count": null,
   "source": [
    "d = {'k1': [1, 2, 3, {'tricky': ['oh', 'man',\r\n",
    "                                 'inception', {'target': [1, 2, 3, 'hello']}]}]}\r\n",
    "\r\n",
    "d['k1'][3]['tricky'][3]['target'][3]"
   ],
   "outputs": [],
   "metadata": {}
  },
  {
   "cell_type": "code",
   "execution_count": null,
   "source": [
    "# ** Create a function that grabs the email website domain from a string in the form: **\r\n",
    "\r\n",
    "# user@domain.com\r\n",
    "\r\n",
    "# **So for example, passing \"user@domain.com\" would return: domain.com**\r\n"
   ],
   "outputs": [],
   "metadata": {}
  },
  {
   "cell_type": "code",
   "execution_count": 114,
   "source": [
    "def domainGet(domain):\r\n",
    "  spl = domain.split('@')\r\n",
    "  print(spl[1])\r\n",
    "\r\n",
    "domainGet('user@domain.com')\r\n"
   ],
   "outputs": [
    {
     "output_type": "stream",
     "name": "stdout",
     "text": [
      "domain.com\n"
     ]
    }
   ],
   "metadata": {}
  },
  {
   "cell_type": "code",
   "execution_count": null,
   "source": [
    "# Find the word dog. return boolean"
   ],
   "outputs": [],
   "metadata": {}
  },
  {
   "cell_type": "code",
   "execution_count": 116,
   "source": [
    "def find_dog(test):\r\n",
    "  for word in test.lower().split():\r\n",
    "    if 'dog' in word:\r\n",
    "      return True\r\n",
    "\r\n",
    "\r\n",
    "find_dog('Is there a dog here?')\r\n"
   ],
   "outputs": [
    {
     "output_type": "execute_result",
     "data": {
      "text/plain": [
       "True"
      ]
     },
     "metadata": {},
     "execution_count": 116
    }
   ],
   "metadata": {}
  },
  {
   "cell_type": "code",
   "execution_count": null,
   "source": [
    "# count how many times word dog appears in sentence"
   ],
   "outputs": [],
   "metadata": {}
  },
  {
   "cell_type": "code",
   "execution_count": 118,
   "source": [
    "def count_dog(test):\r\n",
    "  print(test.lower().count('dog'))\r\n",
    "\r\n",
    "count_dog('This dog runs faster than the other dog dude!')\r\n"
   ],
   "outputs": [
    {
     "output_type": "stream",
     "name": "stdout",
     "text": [
      "2\n"
     ]
    }
   ],
   "metadata": {}
  },
  {
   "cell_type": "code",
   "execution_count": null,
   "source": [
    "# ** Use lambda expressions and the filter() function to filter out words from a list that don't start with the letter 's'. For example: **\r\n",
    "\r\n",
    "# seq = ['soup', 'dog', 'salad', 'cat', 'great']\r\n",
    "\r\n",
    "# **should be filtered down to: **\r\n",
    "\r\n",
    "# ['soup', 'salad']\r\n"
   ],
   "outputs": [],
   "metadata": {}
  },
  {
   "cell_type": "code",
   "execution_count": 78,
   "source": [
    "seq = ['soup', 'dog', 'salad', 'cat', 'great']\r\n",
    "new_list = []\r\n",
    "\r\n",
    "look_up = lambda x : x[0] == 's'\r\n",
    "\r\n",
    "words = filter(look_up, seq)\r\n",
    "\r\n",
    "for x in words:\r\n",
    "  new_list.append(x)\r\n",
    "\r\n",
    "print(new_list)"
   ],
   "outputs": [
    {
     "output_type": "stream",
     "name": "stdout",
     "text": [
      "['soup', 'salad']\n"
     ]
    }
   ],
   "metadata": {}
  },
  {
   "cell_type": "code",
   "execution_count": null,
   "source": [
    "# Final Problem\r\n",
    "\r\n",
    "'''\r\n",
    "You are driving a little too fast, and a police officer stops you. Write a function\r\n",
    "to return one of 3 possible results: \"No ticket\", \"Small ticket\", or \"Big Ticket\".\r\n",
    "If your speed is 60 or less, the result is \"No Ticket\". If speed is between 61\r\n",
    "and 80 inclusive, the result is \"Small Ticket\". If speed is 81 or more, the result is \"Big Ticket\". \r\n",
    "Unless it is your birthday(encoded as a boolean value in the parameters of the function) \r\n",
    "-- on your birthday, your speed can be 5 higher in all cases.\r\n",
    "'''"
   ],
   "outputs": [],
   "metadata": {}
  },
  {
   "cell_type": "code",
   "execution_count": 119,
   "source": [
    "def caught_speeding(speed, is_birthday):\r\n",
    "    if is_birthday:\r\n",
    "        new_speed = speed - 5\r\n",
    "    else:\r\n",
    "        new_speed = speed\r\n",
    "    \r\n",
    "    if new_speed <= 60:\r\n",
    "      print('No ticket')\r\n",
    "    elif new_speed in range(61,80):\r\n",
    "      print('Small Ticket')\r\n",
    "    elif new_speed >= 81:\r\n",
    "      print('Big Ticket')\r\n"
   ],
   "outputs": [],
   "metadata": {}
  },
  {
   "cell_type": "code",
   "execution_count": 120,
   "source": [
    "caught_speeding(81, True)\r\n"
   ],
   "outputs": [
    {
     "output_type": "stream",
     "name": "stdout",
     "text": [
      "Small Ticket\n"
     ]
    }
   ],
   "metadata": {}
  },
  {
   "cell_type": "code",
   "execution_count": 121,
   "source": [
    "caught_speeding(81, False)\r\n"
   ],
   "outputs": [
    {
     "output_type": "stream",
     "name": "stdout",
     "text": [
      "Big Ticket\n"
     ]
    }
   ],
   "metadata": {}
  }
 ],
 "metadata": {
  "orig_nbformat": 4,
  "language_info": {
   "name": "python",
   "version": "3.9.4",
   "mimetype": "text/x-python",
   "codemirror_mode": {
    "name": "ipython",
    "version": 3
   },
   "pygments_lexer": "ipython3",
   "nbconvert_exporter": "python",
   "file_extension": ".py"
  },
  "kernelspec": {
   "name": "python3",
   "display_name": "Python 3.9.4 64-bit ('environment': venv)"
  },
  "interpreter": {
   "hash": "2ad8398b3e59452468b8e4414e9b1f009ade2e97991d373590fca7af4186af3a"
  }
 },
 "nbformat": 4,
 "nbformat_minor": 2
}