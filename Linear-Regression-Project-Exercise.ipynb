{
 "cells": [
  {
   "cell_type": "markdown",
   "metadata": {},
   "source": [
    "___\n",
    "\n",
    "<a href='http://www.pieriandata.com'><img src='../Pierian_Data_Logo.png'/></a>\n",
    "___\n",
    "<center><em>Copyright by Pierian Data Inc.</em></center>\n",
    "<center><em>For more information, visit us at <a href='http://www.pieriandata.com'>www.pieriandata.com</a></em></center>"
   ]
  },
  {
   "cell_type": "markdown",
   "metadata": {},
   "source": [
    "# Linear Regression Project Exercise "
   ]
  },
  {
   "cell_type": "markdown",
   "metadata": {},
   "source": [
    "Now that we have learned about feature engineering, cross validation, and grid search, let's test all your new skills with a project exercise in Machine Learning. This exercise will have a more guided approach, later on the ML projects will begin to be more open-ended. We'll start off with using the final version of the Ames Housing dataset we worked on through the feature engineering section of the course. Your goal will be to create a Linear Regression Model, train it on the data with the optimal parameters using a grid search, and then evaluate the model's capabilities on a test set."
   ]
  },
  {
   "cell_type": "markdown",
   "metadata": {},
   "source": [
    "---\n",
    "---\n",
    "---\n",
    "## Complete the tasks in bold\n",
    "\n",
    "**TASK: Run the cells under the Imports and Data section to make sure you have imported the correct general libraries as well as the correct datasets. Later on you may need to run further imports from scikit-learn.**\n",
    "\n",
    "### Imports"
   ]
  },
  {
   "cell_type": "code",
   "execution_count": 8,
   "metadata": {},
   "outputs": [],
   "source": [
    "import numpy as np\n",
    "import pandas as pd\n",
    "import matplotlib.pyplot as plt\n",
    "import seaborn as sns"
   ]
  },
  {
   "cell_type": "markdown",
   "metadata": {},
   "source": [
    "### Data"
   ]
  },
  {
   "cell_type": "code",
   "execution_count": 9,
   "metadata": {},
   "outputs": [],
   "source": [
    "df = pd.read_csv(\"D:\\\\machine_learning-udemy\\\\DATA\\\\AMES_Final_DF.csv\")"
   ]
  },
  {
   "cell_type": "code",
   "execution_count": 10,
   "metadata": {},
   "outputs": [
    {
     "data": {
      "text/html": [
       "<div>\n",
       "<style scoped>\n",
       "    .dataframe tbody tr th:only-of-type {\n",
       "        vertical-align: middle;\n",
       "    }\n",
       "\n",
       "    .dataframe tbody tr th {\n",
       "        vertical-align: top;\n",
       "    }\n",
       "\n",
       "    .dataframe thead th {\n",
       "        text-align: right;\n",
       "    }\n",
       "</style>\n",
       "<table border=\"1\" class=\"dataframe\">\n",
       "  <thead>\n",
       "    <tr style=\"text-align: right;\">\n",
       "      <th></th>\n",
       "      <th>Lot Frontage</th>\n",
       "      <th>Lot Area</th>\n",
       "      <th>Overall Qual</th>\n",
       "      <th>Overall Cond</th>\n",
       "      <th>Year Built</th>\n",
       "      <th>Year Remod/Add</th>\n",
       "      <th>Mas Vnr Area</th>\n",
       "      <th>BsmtFin SF 1</th>\n",
       "      <th>BsmtFin SF 2</th>\n",
       "      <th>Bsmt Unf SF</th>\n",
       "      <th>...</th>\n",
       "      <th>Sale Type_ConLw</th>\n",
       "      <th>Sale Type_New</th>\n",
       "      <th>Sale Type_Oth</th>\n",
       "      <th>Sale Type_VWD</th>\n",
       "      <th>Sale Type_WD</th>\n",
       "      <th>Sale Condition_AdjLand</th>\n",
       "      <th>Sale Condition_Alloca</th>\n",
       "      <th>Sale Condition_Family</th>\n",
       "      <th>Sale Condition_Normal</th>\n",
       "      <th>Sale Condition_Partial</th>\n",
       "    </tr>\n",
       "  </thead>\n",
       "  <tbody>\n",
       "    <tr>\n",
       "      <th>0</th>\n",
       "      <td>141.0</td>\n",
       "      <td>31770</td>\n",
       "      <td>6</td>\n",
       "      <td>5</td>\n",
       "      <td>1960</td>\n",
       "      <td>1960</td>\n",
       "      <td>112.0</td>\n",
       "      <td>639.0</td>\n",
       "      <td>0.0</td>\n",
       "      <td>441.0</td>\n",
       "      <td>...</td>\n",
       "      <td>0</td>\n",
       "      <td>0</td>\n",
       "      <td>0</td>\n",
       "      <td>0</td>\n",
       "      <td>1</td>\n",
       "      <td>0</td>\n",
       "      <td>0</td>\n",
       "      <td>0</td>\n",
       "      <td>1</td>\n",
       "      <td>0</td>\n",
       "    </tr>\n",
       "    <tr>\n",
       "      <th>1</th>\n",
       "      <td>80.0</td>\n",
       "      <td>11622</td>\n",
       "      <td>5</td>\n",
       "      <td>6</td>\n",
       "      <td>1961</td>\n",
       "      <td>1961</td>\n",
       "      <td>0.0</td>\n",
       "      <td>468.0</td>\n",
       "      <td>144.0</td>\n",
       "      <td>270.0</td>\n",
       "      <td>...</td>\n",
       "      <td>0</td>\n",
       "      <td>0</td>\n",
       "      <td>0</td>\n",
       "      <td>0</td>\n",
       "      <td>1</td>\n",
       "      <td>0</td>\n",
       "      <td>0</td>\n",
       "      <td>0</td>\n",
       "      <td>1</td>\n",
       "      <td>0</td>\n",
       "    </tr>\n",
       "    <tr>\n",
       "      <th>2</th>\n",
       "      <td>81.0</td>\n",
       "      <td>14267</td>\n",
       "      <td>6</td>\n",
       "      <td>6</td>\n",
       "      <td>1958</td>\n",
       "      <td>1958</td>\n",
       "      <td>108.0</td>\n",
       "      <td>923.0</td>\n",
       "      <td>0.0</td>\n",
       "      <td>406.0</td>\n",
       "      <td>...</td>\n",
       "      <td>0</td>\n",
       "      <td>0</td>\n",
       "      <td>0</td>\n",
       "      <td>0</td>\n",
       "      <td>1</td>\n",
       "      <td>0</td>\n",
       "      <td>0</td>\n",
       "      <td>0</td>\n",
       "      <td>1</td>\n",
       "      <td>0</td>\n",
       "    </tr>\n",
       "    <tr>\n",
       "      <th>3</th>\n",
       "      <td>93.0</td>\n",
       "      <td>11160</td>\n",
       "      <td>7</td>\n",
       "      <td>5</td>\n",
       "      <td>1968</td>\n",
       "      <td>1968</td>\n",
       "      <td>0.0</td>\n",
       "      <td>1065.0</td>\n",
       "      <td>0.0</td>\n",
       "      <td>1045.0</td>\n",
       "      <td>...</td>\n",
       "      <td>0</td>\n",
       "      <td>0</td>\n",
       "      <td>0</td>\n",
       "      <td>0</td>\n",
       "      <td>1</td>\n",
       "      <td>0</td>\n",
       "      <td>0</td>\n",
       "      <td>0</td>\n",
       "      <td>1</td>\n",
       "      <td>0</td>\n",
       "    </tr>\n",
       "    <tr>\n",
       "      <th>4</th>\n",
       "      <td>74.0</td>\n",
       "      <td>13830</td>\n",
       "      <td>5</td>\n",
       "      <td>5</td>\n",
       "      <td>1997</td>\n",
       "      <td>1998</td>\n",
       "      <td>0.0</td>\n",
       "      <td>791.0</td>\n",
       "      <td>0.0</td>\n",
       "      <td>137.0</td>\n",
       "      <td>...</td>\n",
       "      <td>0</td>\n",
       "      <td>0</td>\n",
       "      <td>0</td>\n",
       "      <td>0</td>\n",
       "      <td>1</td>\n",
       "      <td>0</td>\n",
       "      <td>0</td>\n",
       "      <td>0</td>\n",
       "      <td>1</td>\n",
       "      <td>0</td>\n",
       "    </tr>\n",
       "  </tbody>\n",
       "</table>\n",
       "<p>5 rows × 274 columns</p>\n",
       "</div>"
      ],
      "text/plain": [
       "   Lot Frontage  Lot Area  Overall Qual  Overall Cond  Year Built  \\\n",
       "0         141.0     31770             6             5        1960   \n",
       "1          80.0     11622             5             6        1961   \n",
       "2          81.0     14267             6             6        1958   \n",
       "3          93.0     11160             7             5        1968   \n",
       "4          74.0     13830             5             5        1997   \n",
       "\n",
       "   Year Remod/Add  Mas Vnr Area  BsmtFin SF 1  BsmtFin SF 2  Bsmt Unf SF  ...  \\\n",
       "0            1960         112.0         639.0           0.0        441.0  ...   \n",
       "1            1961           0.0         468.0         144.0        270.0  ...   \n",
       "2            1958         108.0         923.0           0.0        406.0  ...   \n",
       "3            1968           0.0        1065.0           0.0       1045.0  ...   \n",
       "4            1998           0.0         791.0           0.0        137.0  ...   \n",
       "\n",
       "   Sale Type_ConLw  Sale Type_New  Sale Type_Oth  Sale Type_VWD  \\\n",
       "0                0              0              0              0   \n",
       "1                0              0              0              0   \n",
       "2                0              0              0              0   \n",
       "3                0              0              0              0   \n",
       "4                0              0              0              0   \n",
       "\n",
       "   Sale Type_WD   Sale Condition_AdjLand  Sale Condition_Alloca  \\\n",
       "0              1                       0                      0   \n",
       "1              1                       0                      0   \n",
       "2              1                       0                      0   \n",
       "3              1                       0                      0   \n",
       "4              1                       0                      0   \n",
       "\n",
       "   Sale Condition_Family  Sale Condition_Normal  Sale Condition_Partial  \n",
       "0                      0                      1                       0  \n",
       "1                      0                      1                       0  \n",
       "2                      0                      1                       0  \n",
       "3                      0                      1                       0  \n",
       "4                      0                      1                       0  \n",
       "\n",
       "[5 rows x 274 columns]"
      ]
     },
     "execution_count": 10,
     "metadata": {},
     "output_type": "execute_result"
    }
   ],
   "source": [
    "df.head()"
   ]
  },
  {
   "cell_type": "code",
   "execution_count": 11,
   "metadata": {},
   "outputs": [
    {
     "name": "stdout",
     "output_type": "stream",
     "text": [
      "<class 'pandas.core.frame.DataFrame'>\n",
      "RangeIndex: 2925 entries, 0 to 2924\n",
      "Columns: 274 entries, Lot Frontage to Sale Condition_Partial\n",
      "dtypes: float64(11), int64(263)\n",
      "memory usage: 6.1 MB\n"
     ]
    }
   ],
   "source": [
    "df.info()"
   ]
  },
  {
   "cell_type": "markdown",
   "metadata": {},
   "source": [
    "**TASK: The label we are trying to predict is the SalePrice column. Separate out the data into X features and y labels**"
   ]
  },
  {
   "cell_type": "code",
   "execution_count": 12,
   "metadata": {},
   "outputs": [],
   "source": [
    "# CREATE X and y\n",
    "X = df.drop('SalePrice',axis=1)\n",
    "y = df['SalePrice']"
   ]
  },
  {
   "cell_type": "markdown",
   "metadata": {},
   "source": [
    "**TASK: Use scikit-learn to split up X and y into a training set and test set. Since we will later be using a Grid Search strategy, set your test proportion to 10%. To get the same data split as the solutions notebook, you can specify random_state = 101**"
   ]
  },
  {
   "cell_type": "code",
   "execution_count": 13,
   "metadata": {},
   "outputs": [],
   "source": [
    "from sklearn.model_selection import train_test_split"
   ]
  },
  {
   "cell_type": "code",
   "execution_count": 14,
   "metadata": {},
   "outputs": [],
   "source": [
    "# Train Test Split\n",
    "X_train, X_test, y_train, y_test = train_test_split(X, y, test_size=0.1, random_state=101)"
   ]
  },
  {
   "cell_type": "markdown",
   "metadata": {},
   "source": [
    "**TASK: The dataset features has a variety of scales and units. For optimal regression performance, scale the X features. Take carefuly note of what to use for .fit() vs what to use for .transform()**"
   ]
  },
  {
   "cell_type": "code",
   "execution_count": 15,
   "metadata": {},
   "outputs": [],
   "source": [
    "# SCALE DATA\n",
    "from sklearn.preprocessing import StandardScaler"
   ]
  },
  {
   "cell_type": "code",
   "execution_count": 16,
   "metadata": {},
   "outputs": [
    {
     "data": {
      "text/plain": [
       "StandardScaler()"
      ]
     },
     "execution_count": 16,
     "metadata": {},
     "output_type": "execute_result"
    }
   ],
   "source": [
    "scaler = StandardScaler()\n",
    "# fit only on x_train\n",
    "scaler.fit(X_train)"
   ]
  },
  {
   "cell_type": "code",
   "execution_count": 17,
   "metadata": {},
   "outputs": [],
   "source": [
    "X_train = scaler.transform(X_train)\n",
    "X_test = scaler.transform(X_test)"
   ]
  },
  {
   "cell_type": "markdown",
   "metadata": {},
   "source": [
    "**TASK: We will use an Elastic Net model. Create an instance of default ElasticNet model with scikit-learn**"
   ]
  },
  {
   "cell_type": "code",
   "execution_count": 18,
   "metadata": {},
   "outputs": [],
   "source": [
    "from sklearn.linear_model import ElasticNet"
   ]
  },
  {
   "cell_type": "code",
   "execution_count": 19,
   "metadata": {},
   "outputs": [],
   "source": [
    "base_elastic_model = ElasticNet()"
   ]
  },
  {
   "cell_type": "markdown",
   "metadata": {},
   "source": [
    "**TASK:  The Elastic Net model has two main parameters, alpha and the L1 ratio. Create a dictionary parameter grid of values for the ElasticNet. Feel free to play around with these values, keep in mind, you may not match up exactly with the solution choices**"
   ]
  },
  {
   "cell_type": "code",
   "execution_count": 51,
   "metadata": {},
   "outputs": [],
   "source": [
    "param_grid = {'alpha':[0.1,1,5, 10, 100],\n",
    "              'l1_ratio':[.1, .7, .99, 1]}"
   ]
  },
  {
   "cell_type": "markdown",
   "metadata": {},
   "source": [
    "**TASK: Using scikit-learn create a GridSearchCV object and run a grid search for the best parameters for your model based on your scaled training data. [In case you are curious about the warnings you may recieve for certain parameter combinations](https://stackoverflow.com/questions/20681864/lasso-on-sklearn-does-not-converge)**"
   ]
  },
  {
   "cell_type": "code",
   "execution_count": 52,
   "metadata": {},
   "outputs": [],
   "source": [
    "from sklearn.model_selection import GridSearchCV"
   ]
  },
  {
   "cell_type": "code",
   "execution_count": 60,
   "metadata": {},
   "outputs": [],
   "source": [
    "grid_model = GridSearchCV(estimator=base_elastic_model,\n",
    "                          param_grid=param_grid,\n",
    "                          scoring='neg_mean_squared_error',\n",
    "                          cv=5,\n",
    "                          verbose=1)"
   ]
  },
  {
   "cell_type": "code",
   "execution_count": 61,
   "metadata": {},
   "outputs": [
    {
     "name": "stdout",
     "output_type": "stream",
     "text": [
      "Fitting 5 folds for each of 20 candidates, totalling 100 fits\n"
     ]
    },
    {
     "name": "stderr",
     "output_type": "stream",
     "text": [
      "c:\\Users\\Denisse\\python_projects\\udemy_machine_learning\\ml-env\\lib\\site-packages\\sklearn\\linear_model\\_coordinate_descent.py:647: ConvergenceWarning: Objective did not converge. You might want to increase the number of iterations, check the scale of the features or consider increasing regularisation. Duality gap: 3.542e+11, tolerance: 1.355e+09\n",
      "  model = cd_fast.enet_coordinate_descent(\n",
      "c:\\Users\\Denisse\\python_projects\\udemy_machine_learning\\ml-env\\lib\\site-packages\\sklearn\\linear_model\\_coordinate_descent.py:647: ConvergenceWarning: Objective did not converge. You might want to increase the number of iterations, check the scale of the features or consider increasing regularisation. Duality gap: 3.635e+11, tolerance: 1.308e+09\n",
      "  model = cd_fast.enet_coordinate_descent(\n",
      "c:\\Users\\Denisse\\python_projects\\udemy_machine_learning\\ml-env\\lib\\site-packages\\sklearn\\linear_model\\_coordinate_descent.py:647: ConvergenceWarning: Objective did not converge. You might want to increase the number of iterations, check the scale of the features or consider increasing regularisation. Duality gap: 4.085e+11, tolerance: 1.415e+09\n",
      "  model = cd_fast.enet_coordinate_descent(\n",
      "c:\\Users\\Denisse\\python_projects\\udemy_machine_learning\\ml-env\\lib\\site-packages\\sklearn\\linear_model\\_coordinate_descent.py:647: ConvergenceWarning: Objective did not converge. You might want to increase the number of iterations, check the scale of the features or consider increasing regularisation. Duality gap: 4.071e+11, tolerance: 1.438e+09\n",
      "  model = cd_fast.enet_coordinate_descent(\n",
      "c:\\Users\\Denisse\\python_projects\\udemy_machine_learning\\ml-env\\lib\\site-packages\\sklearn\\linear_model\\_coordinate_descent.py:647: ConvergenceWarning: Objective did not converge. You might want to increase the number of iterations, check the scale of the features or consider increasing regularisation. Duality gap: 3.553e+11, tolerance: 1.346e+09\n",
      "  model = cd_fast.enet_coordinate_descent(\n",
      "c:\\Users\\Denisse\\python_projects\\udemy_machine_learning\\ml-env\\lib\\site-packages\\sklearn\\linear_model\\_coordinate_descent.py:647: ConvergenceWarning: Objective did not converge. You might want to increase the number of iterations, check the scale of the features or consider increasing regularisation. Duality gap: 3.498e+11, tolerance: 1.355e+09\n",
      "  model = cd_fast.enet_coordinate_descent(\n",
      "c:\\Users\\Denisse\\python_projects\\udemy_machine_learning\\ml-env\\lib\\site-packages\\sklearn\\linear_model\\_coordinate_descent.py:647: ConvergenceWarning: Objective did not converge. You might want to increase the number of iterations, check the scale of the features or consider increasing regularisation. Duality gap: 3.591e+11, tolerance: 1.308e+09\n",
      "  model = cd_fast.enet_coordinate_descent(\n",
      "c:\\Users\\Denisse\\python_projects\\udemy_machine_learning\\ml-env\\lib\\site-packages\\sklearn\\linear_model\\_coordinate_descent.py:647: ConvergenceWarning: Objective did not converge. You might want to increase the number of iterations, check the scale of the features or consider increasing regularisation. Duality gap: 4.066e+11, tolerance: 1.415e+09\n",
      "  model = cd_fast.enet_coordinate_descent(\n",
      "c:\\Users\\Denisse\\python_projects\\udemy_machine_learning\\ml-env\\lib\\site-packages\\sklearn\\linear_model\\_coordinate_descent.py:647: ConvergenceWarning: Objective did not converge. You might want to increase the number of iterations, check the scale of the features or consider increasing regularisation. Duality gap: 4.028e+11, tolerance: 1.438e+09\n",
      "  model = cd_fast.enet_coordinate_descent(\n",
      "c:\\Users\\Denisse\\python_projects\\udemy_machine_learning\\ml-env\\lib\\site-packages\\sklearn\\linear_model\\_coordinate_descent.py:647: ConvergenceWarning: Objective did not converge. You might want to increase the number of iterations, check the scale of the features or consider increasing regularisation. Duality gap: 3.687e+11, tolerance: 1.346e+09\n",
      "  model = cd_fast.enet_coordinate_descent(\n",
      "c:\\Users\\Denisse\\python_projects\\udemy_machine_learning\\ml-env\\lib\\site-packages\\sklearn\\linear_model\\_coordinate_descent.py:647: ConvergenceWarning: Objective did not converge. You might want to increase the number of iterations, check the scale of the features or consider increasing regularisation. Duality gap: 3.025e+11, tolerance: 1.355e+09\n",
      "  model = cd_fast.enet_coordinate_descent(\n",
      "c:\\Users\\Denisse\\python_projects\\udemy_machine_learning\\ml-env\\lib\\site-packages\\sklearn\\linear_model\\_coordinate_descent.py:647: ConvergenceWarning: Objective did not converge. You might want to increase the number of iterations, check the scale of the features or consider increasing regularisation. Duality gap: 3.127e+11, tolerance: 1.308e+09\n",
      "  model = cd_fast.enet_coordinate_descent(\n",
      "c:\\Users\\Denisse\\python_projects\\udemy_machine_learning\\ml-env\\lib\\site-packages\\sklearn\\linear_model\\_coordinate_descent.py:647: ConvergenceWarning: Objective did not converge. You might want to increase the number of iterations, check the scale of the features or consider increasing regularisation. Duality gap: 3.475e+11, tolerance: 1.415e+09\n",
      "  model = cd_fast.enet_coordinate_descent(\n",
      "c:\\Users\\Denisse\\python_projects\\udemy_machine_learning\\ml-env\\lib\\site-packages\\sklearn\\linear_model\\_coordinate_descent.py:647: ConvergenceWarning: Objective did not converge. You might want to increase the number of iterations, check the scale of the features or consider increasing regularisation. Duality gap: 3.526e+11, tolerance: 1.438e+09\n",
      "  model = cd_fast.enet_coordinate_descent(\n",
      "c:\\Users\\Denisse\\python_projects\\udemy_machine_learning\\ml-env\\lib\\site-packages\\sklearn\\linear_model\\_coordinate_descent.py:647: ConvergenceWarning: Objective did not converge. You might want to increase the number of iterations, check the scale of the features or consider increasing regularisation. Duality gap: 2.559e+11, tolerance: 1.346e+09\n",
      "  model = cd_fast.enet_coordinate_descent(\n",
      "c:\\Users\\Denisse\\python_projects\\udemy_machine_learning\\ml-env\\lib\\site-packages\\sklearn\\linear_model\\_coordinate_descent.py:647: ConvergenceWarning: Objective did not converge. You might want to increase the number of iterations, check the scale of the features or consider increasing regularisation. Duality gap: 1.707e+11, tolerance: 1.355e+09\n",
      "  model = cd_fast.enet_coordinate_descent(\n",
      "c:\\Users\\Denisse\\python_projects\\udemy_machine_learning\\ml-env\\lib\\site-packages\\sklearn\\linear_model\\_coordinate_descent.py:647: ConvergenceWarning: Objective did not converge. You might want to increase the number of iterations, check the scale of the features or consider increasing regularisation. Duality gap: 1.869e+11, tolerance: 1.308e+09\n",
      "  model = cd_fast.enet_coordinate_descent(\n",
      "c:\\Users\\Denisse\\python_projects\\udemy_machine_learning\\ml-env\\lib\\site-packages\\sklearn\\linear_model\\_coordinate_descent.py:647: ConvergenceWarning: Objective did not converge. You might want to increase the number of iterations, check the scale of the features or consider increasing regularisation. Duality gap: 1.965e+11, tolerance: 1.415e+09\n",
      "  model = cd_fast.enet_coordinate_descent(\n",
      "c:\\Users\\Denisse\\python_projects\\udemy_machine_learning\\ml-env\\lib\\site-packages\\sklearn\\linear_model\\_coordinate_descent.py:647: ConvergenceWarning: Objective did not converge. You might want to increase the number of iterations, check the scale of the features or consider increasing regularisation. Duality gap: 2.128e+11, tolerance: 1.438e+09\n",
      "  model = cd_fast.enet_coordinate_descent(\n",
      "c:\\Users\\Denisse\\python_projects\\udemy_machine_learning\\ml-env\\lib\\site-packages\\sklearn\\linear_model\\_coordinate_descent.py:647: ConvergenceWarning: Objective did not converge. You might want to increase the number of iterations, check the scale of the features or consider increasing regularisation. Duality gap: 4.849e+09, tolerance: 1.346e+09\n",
      "  model = cd_fast.enet_coordinate_descent(\n",
      "c:\\Users\\Denisse\\python_projects\\udemy_machine_learning\\ml-env\\lib\\site-packages\\sklearn\\linear_model\\_coordinate_descent.py:647: ConvergenceWarning: Objective did not converge. You might want to increase the number of iterations, check the scale of the features or consider increasing regularisation. Duality gap: 1.313e+10, tolerance: 1.355e+09\n",
      "  model = cd_fast.enet_coordinate_descent(\n",
      "c:\\Users\\Denisse\\python_projects\\udemy_machine_learning\\ml-env\\lib\\site-packages\\sklearn\\linear_model\\_coordinate_descent.py:647: ConvergenceWarning: Objective did not converge. You might want to increase the number of iterations, check the scale of the features or consider increasing regularisation. Duality gap: 4.414e+09, tolerance: 1.308e+09\n",
      "  model = cd_fast.enet_coordinate_descent(\n",
      "c:\\Users\\Denisse\\python_projects\\udemy_machine_learning\\ml-env\\lib\\site-packages\\sklearn\\linear_model\\_coordinate_descent.py:647: ConvergenceWarning: Objective did not converge. You might want to increase the number of iterations, check the scale of the features or consider increasing regularisation. Duality gap: 3.628e+10, tolerance: 1.415e+09\n",
      "  model = cd_fast.enet_coordinate_descent(\n",
      "c:\\Users\\Denisse\\python_projects\\udemy_machine_learning\\ml-env\\lib\\site-packages\\sklearn\\linear_model\\_coordinate_descent.py:647: ConvergenceWarning: Objective did not converge. You might want to increase the number of iterations, check the scale of the features or consider increasing regularisation. Duality gap: 3.970e+09, tolerance: 1.438e+09\n",
      "  model = cd_fast.enet_coordinate_descent(\n"
     ]
    },
    {
     "data": {
      "text/plain": [
       "GridSearchCV(cv=5, estimator=ElasticNet(),\n",
       "             param_grid={'alpha': [0.1, 1, 5, 10, 100],\n",
       "                         'l1_ratio': [0.1, 0.7, 0.99, 1]},\n",
       "             scoring='neg_mean_squared_error', verbose=1)"
      ]
     },
     "execution_count": 61,
     "metadata": {},
     "output_type": "execute_result"
    }
   ],
   "source": [
    "grid_model.fit(X_train,y_train)"
   ]
  },
  {
   "cell_type": "markdown",
   "metadata": {},
   "source": [
    "**TASK: Display the best combination of parameters for your model**"
   ]
  },
  {
   "cell_type": "code",
   "execution_count": 62,
   "metadata": {},
   "outputs": [
    {
     "data": {
      "text/plain": [
       "{'alpha': 100, 'l1_ratio': 1}"
      ]
     },
     "execution_count": 62,
     "metadata": {},
     "output_type": "execute_result"
    }
   ],
   "source": [
    "grid_model.best_params_"
   ]
  },
  {
   "cell_type": "code",
   "execution_count": 63,
   "metadata": {},
   "outputs": [
    {
     "data": {
      "text/html": [
       "<div>\n",
       "<style scoped>\n",
       "    .dataframe tbody tr th:only-of-type {\n",
       "        vertical-align: middle;\n",
       "    }\n",
       "\n",
       "    .dataframe tbody tr th {\n",
       "        vertical-align: top;\n",
       "    }\n",
       "\n",
       "    .dataframe thead th {\n",
       "        text-align: right;\n",
       "    }\n",
       "</style>\n",
       "<table border=\"1\" class=\"dataframe\">\n",
       "  <thead>\n",
       "    <tr style=\"text-align: right;\">\n",
       "      <th></th>\n",
       "      <th>mean_fit_time</th>\n",
       "      <th>std_fit_time</th>\n",
       "      <th>mean_score_time</th>\n",
       "      <th>std_score_time</th>\n",
       "      <th>param_alpha</th>\n",
       "      <th>param_l1_ratio</th>\n",
       "      <th>params</th>\n",
       "      <th>split0_test_score</th>\n",
       "      <th>split1_test_score</th>\n",
       "      <th>split2_test_score</th>\n",
       "      <th>split3_test_score</th>\n",
       "      <th>split4_test_score</th>\n",
       "      <th>mean_test_score</th>\n",
       "      <th>std_test_score</th>\n",
       "      <th>rank_test_score</th>\n",
       "    </tr>\n",
       "  </thead>\n",
       "  <tbody>\n",
       "    <tr>\n",
       "      <th>0</th>\n",
       "      <td>0.756827</td>\n",
       "      <td>0.110570</td>\n",
       "      <td>0.002107</td>\n",
       "      <td>0.000747</td>\n",
       "      <td>0.1</td>\n",
       "      <td>0.1</td>\n",
       "      <td>{'alpha': 0.1, 'l1_ratio': 0.1}</td>\n",
       "      <td>-6.953930e+08</td>\n",
       "      <td>-6.296423e+08</td>\n",
       "      <td>-3.820861e+08</td>\n",
       "      <td>-4.109032e+08</td>\n",
       "      <td>-5.931194e+08</td>\n",
       "      <td>-5.422288e+08</td>\n",
       "      <td>1.237597e+08</td>\n",
       "      <td>10</td>\n",
       "    </tr>\n",
       "    <tr>\n",
       "      <th>1</th>\n",
       "      <td>1.285437</td>\n",
       "      <td>0.181600</td>\n",
       "      <td>0.001591</td>\n",
       "      <td>0.000498</td>\n",
       "      <td>0.1</td>\n",
       "      <td>0.7</td>\n",
       "      <td>{'alpha': 0.1, 'l1_ratio': 0.7}</td>\n",
       "      <td>-6.746170e+08</td>\n",
       "      <td>-5.953424e+08</td>\n",
       "      <td>-3.807417e+08</td>\n",
       "      <td>-4.065177e+08</td>\n",
       "      <td>-5.869686e+08</td>\n",
       "      <td>-5.288375e+08</td>\n",
       "      <td>1.148463e+08</td>\n",
       "      <td>3</td>\n",
       "    </tr>\n",
       "    <tr>\n",
       "      <th>2</th>\n",
       "      <td>1.989713</td>\n",
       "      <td>0.260133</td>\n",
       "      <td>0.001996</td>\n",
       "      <td>0.000003</td>\n",
       "      <td>0.1</td>\n",
       "      <td>0.99</td>\n",
       "      <td>{'alpha': 0.1, 'l1_ratio': 0.99}</td>\n",
       "      <td>-6.726844e+08</td>\n",
       "      <td>-5.963010e+08</td>\n",
       "      <td>-3.823734e+08</td>\n",
       "      <td>-4.166526e+08</td>\n",
       "      <td>-5.921745e+08</td>\n",
       "      <td>-5.320372e+08</td>\n",
       "      <td>1.124641e+08</td>\n",
       "      <td>6</td>\n",
       "    </tr>\n",
       "    <tr>\n",
       "      <th>3</th>\n",
       "      <td>2.053819</td>\n",
       "      <td>0.200327</td>\n",
       "      <td>0.002608</td>\n",
       "      <td>0.000810</td>\n",
       "      <td>0.1</td>\n",
       "      <td>1</td>\n",
       "      <td>{'alpha': 0.1, 'l1_ratio': 1}</td>\n",
       "      <td>-6.782769e+08</td>\n",
       "      <td>-6.017437e+08</td>\n",
       "      <td>-3.828040e+08</td>\n",
       "      <td>-4.341237e+08</td>\n",
       "      <td>-5.958512e+08</td>\n",
       "      <td>-5.385599e+08</td>\n",
       "      <td>1.113213e+08</td>\n",
       "      <td>9</td>\n",
       "    </tr>\n",
       "    <tr>\n",
       "      <th>4</th>\n",
       "      <td>0.212448</td>\n",
       "      <td>0.024251</td>\n",
       "      <td>0.001781</td>\n",
       "      <td>0.000771</td>\n",
       "      <td>1</td>\n",
       "      <td>0.1</td>\n",
       "      <td>{'alpha': 1, 'l1_ratio': 0.1}</td>\n",
       "      <td>-8.919258e+08</td>\n",
       "      <td>-9.860140e+08</td>\n",
       "      <td>-4.701213e+08</td>\n",
       "      <td>-5.232028e+08</td>\n",
       "      <td>-7.759128e+08</td>\n",
       "      <td>-7.294353e+08</td>\n",
       "      <td>2.020750e+08</td>\n",
       "      <td>13</td>\n",
       "    </tr>\n",
       "    <tr>\n",
       "      <th>5</th>\n",
       "      <td>0.359122</td>\n",
       "      <td>0.075245</td>\n",
       "      <td>0.002389</td>\n",
       "      <td>0.001025</td>\n",
       "      <td>1</td>\n",
       "      <td>0.7</td>\n",
       "      <td>{'alpha': 1, 'l1_ratio': 0.7}</td>\n",
       "      <td>-7.508349e+08</td>\n",
       "      <td>-7.393671e+08</td>\n",
       "      <td>-3.964823e+08</td>\n",
       "      <td>-4.376120e+08</td>\n",
       "      <td>-6.363607e+08</td>\n",
       "      <td>-5.921314e+08</td>\n",
       "      <td>1.489807e+08</td>\n",
       "      <td>12</td>\n",
       "    </tr>\n",
       "    <tr>\n",
       "      <th>6</th>\n",
       "      <td>1.648530</td>\n",
       "      <td>0.231068</td>\n",
       "      <td>0.002068</td>\n",
       "      <td>0.000682</td>\n",
       "      <td>1</td>\n",
       "      <td>0.99</td>\n",
       "      <td>{'alpha': 1, 'l1_ratio': 0.99}</td>\n",
       "      <td>-6.669618e+08</td>\n",
       "      <td>-5.879018e+08</td>\n",
       "      <td>-3.819024e+08</td>\n",
       "      <td>-4.093708e+08</td>\n",
       "      <td>-5.880459e+08</td>\n",
       "      <td>-5.268365e+08</td>\n",
       "      <td>1.112787e+08</td>\n",
       "      <td>2</td>\n",
       "    </tr>\n",
       "    <tr>\n",
       "      <th>7</th>\n",
       "      <td>1.949730</td>\n",
       "      <td>0.176202</td>\n",
       "      <td>0.001829</td>\n",
       "      <td>0.000324</td>\n",
       "      <td>1</td>\n",
       "      <td>1</td>\n",
       "      <td>{'alpha': 1, 'l1_ratio': 1}</td>\n",
       "      <td>-6.768547e+08</td>\n",
       "      <td>-6.003944e+08</td>\n",
       "      <td>-3.821751e+08</td>\n",
       "      <td>-4.306818e+08</td>\n",
       "      <td>-5.943141e+08</td>\n",
       "      <td>-5.368840e+08</td>\n",
       "      <td>1.114786e+08</td>\n",
       "      <td>8</td>\n",
       "    </tr>\n",
       "    <tr>\n",
       "      <th>8</th>\n",
       "      <td>0.072474</td>\n",
       "      <td>0.004378</td>\n",
       "      <td>0.002239</td>\n",
       "      <td>0.000979</td>\n",
       "      <td>5</td>\n",
       "      <td>0.1</td>\n",
       "      <td>{'alpha': 5, 'l1_ratio': 0.1}</td>\n",
       "      <td>-1.559315e+09</td>\n",
       "      <td>-1.908632e+09</td>\n",
       "      <td>-9.766328e+08</td>\n",
       "      <td>-9.760468e+08</td>\n",
       "      <td>-1.476170e+09</td>\n",
       "      <td>-1.379359e+09</td>\n",
       "      <td>3.596485e+08</td>\n",
       "      <td>17</td>\n",
       "    </tr>\n",
       "    <tr>\n",
       "      <th>9</th>\n",
       "      <td>0.163922</td>\n",
       "      <td>0.007594</td>\n",
       "      <td>0.002459</td>\n",
       "      <td>0.000400</td>\n",
       "      <td>5</td>\n",
       "      <td>0.7</td>\n",
       "      <td>{'alpha': 5, 'l1_ratio': 0.7}</td>\n",
       "      <td>-1.020199e+09</td>\n",
       "      <td>-1.183631e+09</td>\n",
       "      <td>-5.565884e+08</td>\n",
       "      <td>-6.065791e+08</td>\n",
       "      <td>-9.079494e+08</td>\n",
       "      <td>-8.549895e+08</td>\n",
       "      <td>2.403561e+08</td>\n",
       "      <td>15</td>\n",
       "    </tr>\n",
       "    <tr>\n",
       "      <th>10</th>\n",
       "      <td>0.528613</td>\n",
       "      <td>0.081420</td>\n",
       "      <td>0.001709</td>\n",
       "      <td>0.000557</td>\n",
       "      <td>5</td>\n",
       "      <td>0.99</td>\n",
       "      <td>{'alpha': 5, 'l1_ratio': 0.99}</td>\n",
       "      <td>-6.815304e+08</td>\n",
       "      <td>-6.063142e+08</td>\n",
       "      <td>-3.802629e+08</td>\n",
       "      <td>-4.062500e+08</td>\n",
       "      <td>-5.868648e+08</td>\n",
       "      <td>-5.322445e+08</td>\n",
       "      <td>1.180923e+08</td>\n",
       "      <td>7</td>\n",
       "    </tr>\n",
       "    <tr>\n",
       "      <th>11</th>\n",
       "      <td>1.968035</td>\n",
       "      <td>0.220417</td>\n",
       "      <td>0.001681</td>\n",
       "      <td>0.000490</td>\n",
       "      <td>5</td>\n",
       "      <td>1</td>\n",
       "      <td>{'alpha': 5, 'l1_ratio': 1}</td>\n",
       "      <td>-6.714998e+08</td>\n",
       "      <td>-5.966434e+08</td>\n",
       "      <td>-3.804620e+08</td>\n",
       "      <td>-4.191734e+08</td>\n",
       "      <td>-5.913751e+08</td>\n",
       "      <td>-5.318307e+08</td>\n",
       "      <td>1.121230e+08</td>\n",
       "      <td>5</td>\n",
       "    </tr>\n",
       "    <tr>\n",
       "      <th>12</th>\n",
       "      <td>0.074185</td>\n",
       "      <td>0.024011</td>\n",
       "      <td>0.002506</td>\n",
       "      <td>0.001615</td>\n",
       "      <td>10</td>\n",
       "      <td>0.1</td>\n",
       "      <td>{'alpha': 10, 'l1_ratio': 0.1}</td>\n",
       "      <td>-2.196049e+09</td>\n",
       "      <td>-2.680776e+09</td>\n",
       "      <td>-1.513349e+09</td>\n",
       "      <td>-1.440617e+09</td>\n",
       "      <td>-2.158587e+09</td>\n",
       "      <td>-1.997876e+09</td>\n",
       "      <td>4.640597e+08</td>\n",
       "      <td>18</td>\n",
       "    </tr>\n",
       "    <tr>\n",
       "      <th>13</th>\n",
       "      <td>0.072891</td>\n",
       "      <td>0.003355</td>\n",
       "      <td>0.001691</td>\n",
       "      <td>0.000402</td>\n",
       "      <td>10</td>\n",
       "      <td>0.7</td>\n",
       "      <td>{'alpha': 10, 'l1_ratio': 0.7}</td>\n",
       "      <td>-1.306247e+09</td>\n",
       "      <td>-1.581829e+09</td>\n",
       "      <td>-7.728658e+08</td>\n",
       "      <td>-7.994745e+08</td>\n",
       "      <td>-1.207512e+09</td>\n",
       "      <td>-1.133586e+09</td>\n",
       "      <td>3.091756e+08</td>\n",
       "      <td>16</td>\n",
       "    </tr>\n",
       "    <tr>\n",
       "      <th>14</th>\n",
       "      <td>0.267923</td>\n",
       "      <td>0.014794</td>\n",
       "      <td>0.002209</td>\n",
       "      <td>0.000435</td>\n",
       "      <td>10</td>\n",
       "      <td>0.99</td>\n",
       "      <td>{'alpha': 10, 'l1_ratio': 0.99}</td>\n",
       "      <td>-6.974280e+08</td>\n",
       "      <td>-6.356626e+08</td>\n",
       "      <td>-3.817457e+08</td>\n",
       "      <td>-4.107073e+08</td>\n",
       "      <td>-5.931710e+08</td>\n",
       "      <td>-5.437429e+08</td>\n",
       "      <td>1.252622e+08</td>\n",
       "      <td>11</td>\n",
       "    </tr>\n",
       "    <tr>\n",
       "      <th>15</th>\n",
       "      <td>2.087040</td>\n",
       "      <td>0.244211</td>\n",
       "      <td>0.002191</td>\n",
       "      <td>0.000388</td>\n",
       "      <td>10</td>\n",
       "      <td>1</td>\n",
       "      <td>{'alpha': 10, 'l1_ratio': 1}</td>\n",
       "      <td>-6.672342e+08</td>\n",
       "      <td>-5.937499e+08</td>\n",
       "      <td>-3.809313e+08</td>\n",
       "      <td>-4.127535e+08</td>\n",
       "      <td>-5.900095e+08</td>\n",
       "      <td>-5.289357e+08</td>\n",
       "      <td>1.117685e+08</td>\n",
       "      <td>4</td>\n",
       "    </tr>\n",
       "    <tr>\n",
       "      <th>16</th>\n",
       "      <td>0.032637</td>\n",
       "      <td>0.000870</td>\n",
       "      <td>0.002196</td>\n",
       "      <td>0.000407</td>\n",
       "      <td>100</td>\n",
       "      <td>0.1</td>\n",
       "      <td>{'alpha': 100, 'l1_ratio': 0.1}</td>\n",
       "      <td>-5.427362e+09</td>\n",
       "      <td>-6.244043e+09</td>\n",
       "      <td>-4.409434e+09</td>\n",
       "      <td>-4.059744e+09</td>\n",
       "      <td>-5.579981e+09</td>\n",
       "      <td>-5.144113e+09</td>\n",
       "      <td>7.994581e+08</td>\n",
       "      <td>20</td>\n",
       "    </tr>\n",
       "    <tr>\n",
       "      <th>17</th>\n",
       "      <td>0.034506</td>\n",
       "      <td>0.000810</td>\n",
       "      <td>0.001583</td>\n",
       "      <td>0.000411</td>\n",
       "      <td>100</td>\n",
       "      <td>0.7</td>\n",
       "      <td>{'alpha': 100, 'l1_ratio': 0.7}</td>\n",
       "      <td>-3.906658e+09</td>\n",
       "      <td>-4.607061e+09</td>\n",
       "      <td>-3.025208e+09</td>\n",
       "      <td>-2.786780e+09</td>\n",
       "      <td>-3.983546e+09</td>\n",
       "      <td>-3.661851e+09</td>\n",
       "      <td>6.675183e+08</td>\n",
       "      <td>19</td>\n",
       "    </tr>\n",
       "    <tr>\n",
       "      <th>18</th>\n",
       "      <td>0.104633</td>\n",
       "      <td>0.001061</td>\n",
       "      <td>0.001637</td>\n",
       "      <td>0.000453</td>\n",
       "      <td>100</td>\n",
       "      <td>0.99</td>\n",
       "      <td>{'alpha': 100, 'l1_ratio': 0.99}</td>\n",
       "      <td>-9.183798e+08</td>\n",
       "      <td>-1.033918e+09</td>\n",
       "      <td>-4.885863e+08</td>\n",
       "      <td>-5.409925e+08</td>\n",
       "      <td>-8.010733e+08</td>\n",
       "      <td>-7.565901e+08</td>\n",
       "      <td>2.113641e+08</td>\n",
       "      <td>14</td>\n",
       "    </tr>\n",
       "    <tr>\n",
       "      <th>19</th>\n",
       "      <td>0.776682</td>\n",
       "      <td>0.056904</td>\n",
       "      <td>0.002693</td>\n",
       "      <td>0.000927</td>\n",
       "      <td>100</td>\n",
       "      <td>1</td>\n",
       "      <td>{'alpha': 100, 'l1_ratio': 1}</td>\n",
       "      <td>-6.527522e+08</td>\n",
       "      <td>-5.774424e+08</td>\n",
       "      <td>-3.762401e+08</td>\n",
       "      <td>-3.950646e+08</td>\n",
       "      <td>-5.724653e+08</td>\n",
       "      <td>-5.147929e+08</td>\n",
       "      <td>1.093760e+08</td>\n",
       "      <td>1</td>\n",
       "    </tr>\n",
       "  </tbody>\n",
       "</table>\n",
       "</div>"
      ],
      "text/plain": [
       "    mean_fit_time  std_fit_time  mean_score_time  std_score_time param_alpha  \\\n",
       "0        0.756827      0.110570         0.002107        0.000747         0.1   \n",
       "1        1.285437      0.181600         0.001591        0.000498         0.1   \n",
       "2        1.989713      0.260133         0.001996        0.000003         0.1   \n",
       "3        2.053819      0.200327         0.002608        0.000810         0.1   \n",
       "4        0.212448      0.024251         0.001781        0.000771           1   \n",
       "5        0.359122      0.075245         0.002389        0.001025           1   \n",
       "6        1.648530      0.231068         0.002068        0.000682           1   \n",
       "7        1.949730      0.176202         0.001829        0.000324           1   \n",
       "8        0.072474      0.004378         0.002239        0.000979           5   \n",
       "9        0.163922      0.007594         0.002459        0.000400           5   \n",
       "10       0.528613      0.081420         0.001709        0.000557           5   \n",
       "11       1.968035      0.220417         0.001681        0.000490           5   \n",
       "12       0.074185      0.024011         0.002506        0.001615          10   \n",
       "13       0.072891      0.003355         0.001691        0.000402          10   \n",
       "14       0.267923      0.014794         0.002209        0.000435          10   \n",
       "15       2.087040      0.244211         0.002191        0.000388          10   \n",
       "16       0.032637      0.000870         0.002196        0.000407         100   \n",
       "17       0.034506      0.000810         0.001583        0.000411         100   \n",
       "18       0.104633      0.001061         0.001637        0.000453         100   \n",
       "19       0.776682      0.056904         0.002693        0.000927         100   \n",
       "\n",
       "   param_l1_ratio                            params  split0_test_score  \\\n",
       "0             0.1   {'alpha': 0.1, 'l1_ratio': 0.1}      -6.953930e+08   \n",
       "1             0.7   {'alpha': 0.1, 'l1_ratio': 0.7}      -6.746170e+08   \n",
       "2            0.99  {'alpha': 0.1, 'l1_ratio': 0.99}      -6.726844e+08   \n",
       "3               1     {'alpha': 0.1, 'l1_ratio': 1}      -6.782769e+08   \n",
       "4             0.1     {'alpha': 1, 'l1_ratio': 0.1}      -8.919258e+08   \n",
       "5             0.7     {'alpha': 1, 'l1_ratio': 0.7}      -7.508349e+08   \n",
       "6            0.99    {'alpha': 1, 'l1_ratio': 0.99}      -6.669618e+08   \n",
       "7               1       {'alpha': 1, 'l1_ratio': 1}      -6.768547e+08   \n",
       "8             0.1     {'alpha': 5, 'l1_ratio': 0.1}      -1.559315e+09   \n",
       "9             0.7     {'alpha': 5, 'l1_ratio': 0.7}      -1.020199e+09   \n",
       "10           0.99    {'alpha': 5, 'l1_ratio': 0.99}      -6.815304e+08   \n",
       "11              1       {'alpha': 5, 'l1_ratio': 1}      -6.714998e+08   \n",
       "12            0.1    {'alpha': 10, 'l1_ratio': 0.1}      -2.196049e+09   \n",
       "13            0.7    {'alpha': 10, 'l1_ratio': 0.7}      -1.306247e+09   \n",
       "14           0.99   {'alpha': 10, 'l1_ratio': 0.99}      -6.974280e+08   \n",
       "15              1      {'alpha': 10, 'l1_ratio': 1}      -6.672342e+08   \n",
       "16            0.1   {'alpha': 100, 'l1_ratio': 0.1}      -5.427362e+09   \n",
       "17            0.7   {'alpha': 100, 'l1_ratio': 0.7}      -3.906658e+09   \n",
       "18           0.99  {'alpha': 100, 'l1_ratio': 0.99}      -9.183798e+08   \n",
       "19              1     {'alpha': 100, 'l1_ratio': 1}      -6.527522e+08   \n",
       "\n",
       "    split1_test_score  split2_test_score  split3_test_score  \\\n",
       "0       -6.296423e+08      -3.820861e+08      -4.109032e+08   \n",
       "1       -5.953424e+08      -3.807417e+08      -4.065177e+08   \n",
       "2       -5.963010e+08      -3.823734e+08      -4.166526e+08   \n",
       "3       -6.017437e+08      -3.828040e+08      -4.341237e+08   \n",
       "4       -9.860140e+08      -4.701213e+08      -5.232028e+08   \n",
       "5       -7.393671e+08      -3.964823e+08      -4.376120e+08   \n",
       "6       -5.879018e+08      -3.819024e+08      -4.093708e+08   \n",
       "7       -6.003944e+08      -3.821751e+08      -4.306818e+08   \n",
       "8       -1.908632e+09      -9.766328e+08      -9.760468e+08   \n",
       "9       -1.183631e+09      -5.565884e+08      -6.065791e+08   \n",
       "10      -6.063142e+08      -3.802629e+08      -4.062500e+08   \n",
       "11      -5.966434e+08      -3.804620e+08      -4.191734e+08   \n",
       "12      -2.680776e+09      -1.513349e+09      -1.440617e+09   \n",
       "13      -1.581829e+09      -7.728658e+08      -7.994745e+08   \n",
       "14      -6.356626e+08      -3.817457e+08      -4.107073e+08   \n",
       "15      -5.937499e+08      -3.809313e+08      -4.127535e+08   \n",
       "16      -6.244043e+09      -4.409434e+09      -4.059744e+09   \n",
       "17      -4.607061e+09      -3.025208e+09      -2.786780e+09   \n",
       "18      -1.033918e+09      -4.885863e+08      -5.409925e+08   \n",
       "19      -5.774424e+08      -3.762401e+08      -3.950646e+08   \n",
       "\n",
       "    split4_test_score  mean_test_score  std_test_score  rank_test_score  \n",
       "0       -5.931194e+08    -5.422288e+08    1.237597e+08               10  \n",
       "1       -5.869686e+08    -5.288375e+08    1.148463e+08                3  \n",
       "2       -5.921745e+08    -5.320372e+08    1.124641e+08                6  \n",
       "3       -5.958512e+08    -5.385599e+08    1.113213e+08                9  \n",
       "4       -7.759128e+08    -7.294353e+08    2.020750e+08               13  \n",
       "5       -6.363607e+08    -5.921314e+08    1.489807e+08               12  \n",
       "6       -5.880459e+08    -5.268365e+08    1.112787e+08                2  \n",
       "7       -5.943141e+08    -5.368840e+08    1.114786e+08                8  \n",
       "8       -1.476170e+09    -1.379359e+09    3.596485e+08               17  \n",
       "9       -9.079494e+08    -8.549895e+08    2.403561e+08               15  \n",
       "10      -5.868648e+08    -5.322445e+08    1.180923e+08                7  \n",
       "11      -5.913751e+08    -5.318307e+08    1.121230e+08                5  \n",
       "12      -2.158587e+09    -1.997876e+09    4.640597e+08               18  \n",
       "13      -1.207512e+09    -1.133586e+09    3.091756e+08               16  \n",
       "14      -5.931710e+08    -5.437429e+08    1.252622e+08               11  \n",
       "15      -5.900095e+08    -5.289357e+08    1.117685e+08                4  \n",
       "16      -5.579981e+09    -5.144113e+09    7.994581e+08               20  \n",
       "17      -3.983546e+09    -3.661851e+09    6.675183e+08               19  \n",
       "18      -8.010733e+08    -7.565901e+08    2.113641e+08               14  \n",
       "19      -5.724653e+08    -5.147929e+08    1.093760e+08                1  "
      ]
     },
     "execution_count": 63,
     "metadata": {},
     "output_type": "execute_result"
    }
   ],
   "source": [
    "pd.DataFrame(grid_model.cv_results_)"
   ]
  },
  {
   "cell_type": "markdown",
   "metadata": {},
   "source": [
    "**TASK: Evaluate your model's performance on the unseen 10% scaled test set. In the solutions notebook we achieved an MAE of $\\$$14149 and a RMSE of $\\$$20532**"
   ]
  },
  {
   "cell_type": "code",
   "execution_count": 67,
   "metadata": {},
   "outputs": [],
   "source": [
    "y_pred = grid_model.predict(X_test)"
   ]
  },
  {
   "cell_type": "code",
   "execution_count": 68,
   "metadata": {},
   "outputs": [],
   "source": [
    "from sklearn.metrics import mean_absolute_error, mean_squared_error"
   ]
  },
  {
   "cell_type": "code",
   "execution_count": 74,
   "metadata": {},
   "outputs": [
    {
     "data": {
      "text/plain": [
       "14195.354900562168"
      ]
     },
     "execution_count": 74,
     "metadata": {},
     "output_type": "execute_result"
    }
   ],
   "source": [
    "MAE = mean_absolute_error(y_test,y_pred)\n",
    "MAE"
   ]
  },
  {
   "cell_type": "code",
   "execution_count": 72,
   "metadata": {},
   "outputs": [
    {
     "data": {
      "text/plain": [
       "119.14426087966709"
      ]
     },
     "execution_count": 72,
     "metadata": {},
     "output_type": "execute_result"
    }
   ],
   "source": [
    "RMSE = np.sqrt(MAE)\n",
    "RMSE"
   ]
  },
  {
   "cell_type": "code",
   "execution_count": 73,
   "metadata": {},
   "outputs": [
    {
     "data": {
      "text/plain": [
       "180815.53743589742"
      ]
     },
     "execution_count": 73,
     "metadata": {},
     "output_type": "execute_result"
    }
   ],
   "source": [
    "np.mean(df['SalePrice'])"
   ]
  },
  {
   "cell_type": "markdown",
   "metadata": {},
   "source": [
    "## Great work!\n",
    "\n",
    "----"
   ]
  }
 ],
 "metadata": {
  "kernelspec": {
   "display_name": "Python 3",
   "language": "python",
   "name": "python3"
  },
  "language_info": {
   "codemirror_mode": {
    "name": "ipython",
    "version": 3
   },
   "file_extension": ".py",
   "mimetype": "text/x-python",
   "name": "python",
   "nbconvert_exporter": "python",
   "pygments_lexer": "ipython3",
   "version": "3.9.4"
  }
 },
 "nbformat": 4,
 "nbformat_minor": 2
}
